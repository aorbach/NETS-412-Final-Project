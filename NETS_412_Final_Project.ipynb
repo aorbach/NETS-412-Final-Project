{
  "nbformat": 4,
  "nbformat_minor": 0,
  "metadata": {
    "colab": {
      "name": "NETS 412 Final Project.ipynb",
      "provenance": [],
      "collapsed_sections": [
        "QPGJMQyYRfbg",
        "o5m_zsUls307",
        "jXmwGtpuRlFz",
        "CF57w4ctRCZq",
        "oYjw5YhWw2rR",
        "2IbbHbVeSDad",
        "bfTNOgSAvTGK",
        "JJfVM_6w1_Q6",
        "zBbsYT5iwaKr"
      ]
    },
    "kernelspec": {
      "name": "python3",
      "display_name": "Python 3"
    },
    "language_info": {
      "name": "python"
    }
  },
  "cells": [
    {
      "cell_type": "markdown",
      "metadata": {
        "id": "QPGJMQyYRfbg"
      },
      "source": [
        "### Import statements"
      ]
    },
    {
      "cell_type": "code",
      "metadata": {
        "id": "2VeXxcIXsZQu"
      },
      "source": [
        "import numpy as np\n",
        "import random\n",
        "from matplotlib import pyplot as plt\n",
        "\n",
        "random.seed(0)\n",
        "np.random.seed(0)"
      ],
      "execution_count": null,
      "outputs": []
    },
    {
      "cell_type": "markdown",
      "metadata": {
        "id": "o5m_zsUls307"
      },
      "source": [
        "### Reward Matrix<br>\n",
        "\n",
        "\n"
      ]
    },
    {
      "cell_type": "markdown",
      "metadata": {
        "id": "XLID1okz1VHP"
      },
      "source": [
        "(rather than classical prisoners' dilemma with punishments so that players want to maximize their value)<br>\n",
        "--------------------Cooperate------Defect<br>\n",
        "Cooperate-------(2, 2)-----------(0, 3)<br>\n",
        "Defect-------------(3, 0)-----------(1, 1)"
      ]
    },
    {
      "cell_type": "code",
      "metadata": {
        "id": "0SnmqhrrsqOQ"
      },
      "source": [
        "rewards = np.array([[[2, 2], [0, 3]], [[3, 0], [1, 1]]])"
      ],
      "execution_count": null,
      "outputs": []
    },
    {
      "cell_type": "markdown",
      "metadata": {
        "id": "jXmwGtpuRlFz"
      },
      "source": [
        "# Player class algorithms"
      ]
    },
    {
      "cell_type": "markdown",
      "metadata": {
        "id": "CF57w4ctRCZq"
      },
      "source": [
        "## Superclass of all player algorithms"
      ]
    },
    {
      "cell_type": "code",
      "metadata": {
        "id": "j5TLaHaVNGxi"
      },
      "source": [
        "class Player():\n",
        "  def __init__(self):\n",
        "    self.num_rounds_round = 0\n",
        "    self.rewards_round = []\n",
        "    self.cumulative_reward_round = 0\n",
        "    self.cumulative_rewards_round = []\n",
        "    self.average_reward_round = 0\n",
        "    self.average_rewards_round = []\n",
        "\n",
        "    self.num_rounds_total = 0\n",
        "    self.rewards_total = []\n",
        "    self.cumulative_reward_total = 0\n",
        "    self.cumulative_rewards_total = []\n",
        "    self.average_reward_total = 0\n",
        "    self.average_rewards_total = []\n",
        "\n",
        "  def get_action(self):\n",
        "    pass\n",
        "\n",
        "  def receive_reward(self, rewards, row, col, player):\n",
        "    self.num_rounds_round += 1\n",
        "    self.num_rounds_total += 1\n",
        "    reward = rewards[row, col, player]\n",
        "    self.rewards_round.append(reward)\n",
        "    self.rewards_total.append(reward)\n",
        "    self.cumulative_reward_round += reward\n",
        "    self.cumulative_reward_total += reward\n",
        "    self.cumulative_rewards_round.append(self.cumulative_reward_round)\n",
        "    self.cumulative_rewards_total.append(self.cumulative_reward_total)\n",
        "    self.average_reward_round = self.cumulative_reward_round / self.num_rounds_round\n",
        "    self.average_reward_total = self.cumulative_reward_total / self.num_rounds_total\n",
        "    self.average_rewards_round.append(self.average_reward_round)\n",
        "    self.average_rewards_total.append(self.average_reward_total)\n",
        "\n",
        "  def get_name(self):\n",
        "    pass\n",
        "\n",
        "  def reset_round(self):\n",
        "    self.num_rounds_round = 0\n",
        "    self.rewards_round = []\n",
        "    self.cumulative_reward_round = 0\n",
        "    self.cumulative_rewards_round = []\n",
        "    self.average_reward_round = 0\n",
        "    self.average_rewards_round = []"
      ],
      "execution_count": null,
      "outputs": []
    },
    {
      "cell_type": "markdown",
      "metadata": {
        "id": "oYjw5YhWw2rR"
      },
      "source": [
        "## Player classes"
      ]
    },
    {
      "cell_type": "markdown",
      "metadata": {
        "id": "m8smJXEjRVVz"
      },
      "source": [
        "### Nice player always cooperates"
      ]
    },
    {
      "cell_type": "code",
      "metadata": {
        "id": "O6hVGU4Vv-79"
      },
      "source": [
        "class Nice(Player):\n",
        "  def __init__(self):\n",
        "    super().__init__()\n",
        "  \n",
        "  def get_action(self):\n",
        "    return 0\n",
        "\n",
        "  def get_name(self):\n",
        "    return \"Nice\""
      ],
      "execution_count": null,
      "outputs": []
    },
    {
      "cell_type": "markdown",
      "metadata": {
        "id": "RXdY5JvpRspt"
      },
      "source": [
        "### Nasty player always defects"
      ]
    },
    {
      "cell_type": "code",
      "metadata": {
        "id": "La87lJXAw-Cz"
      },
      "source": [
        "class Nasty(Player):\n",
        "  def __init__(self):\n",
        "    super().__init__()\n",
        "  \n",
        "  def get_action(self):\n",
        "    return 1\n",
        "\n",
        "  def get_name(self):\n",
        "    return \"Nasty\""
      ],
      "execution_count": null,
      "outputs": []
    },
    {
      "cell_type": "markdown",
      "metadata": {
        "id": "2WiGLMgfRyWP"
      },
      "source": [
        "### Tit for Tat player initially cooperates, then mirrors the opponent's previous action"
      ]
    },
    {
      "cell_type": "code",
      "metadata": {
        "id": "YpgCgoJZOlg6"
      },
      "source": [
        "class TitForTat(Player):\n",
        "  def __init__(self):\n",
        "    super().__init__()\n",
        "    self.opponent_last_move = 0\n",
        "\n",
        "  def get_action(self):\n",
        "    return self.opponent_last_move\n",
        "\n",
        "  def receive_reward(self, rewards, row, col, player):\n",
        "    super().receive_reward(rewards, row, col, player)\n",
        "    if player == 0:\n",
        "      self.opponent_last_move = col\n",
        "    else:\n",
        "      self.opponent_last_move = row\n",
        "\n",
        "  def get_name(self):\n",
        "    return \"TitForTat\"\n",
        "\n",
        "  def reset_round(self):\n",
        "    super().reset_round()\n",
        "    self.opponent_last_move = 0"
      ],
      "execution_count": null,
      "outputs": []
    },
    {
      "cell_type": "markdown",
      "metadata": {
        "id": "DvK5KbK2TOnR"
      },
      "source": [
        "### EpsilonNasty defects with probability epsilon and cooperates with probability 1-epsilon"
      ]
    },
    {
      "cell_type": "code",
      "metadata": {
        "id": "Et7tsDDqTZVg"
      },
      "source": [
        "class EpsilonNasty(Player):\n",
        "  def __init__(self, epsilon):\n",
        "    super().__init__()\n",
        "    self.epsilon = epsilon\n",
        "  \n",
        "  def get_action(self):\n",
        "    if random.uniform(0, 1) < self.epsilon:\n",
        "      return 1\n",
        "    else:\n",
        "      return 0\n",
        "\n",
        "  def get_name(self):\n",
        "    return \"EpsilonNasty (\" + str(100*self.epsilon) + \"%)\""
      ],
      "execution_count": null,
      "outputs": []
    },
    {
      "cell_type": "markdown",
      "metadata": {
        "id": "aMC840AkUaQb"
      },
      "source": [
        "### Grim Trigger cooperates until the opponent defects, then it defects for the rest of the episode"
      ]
    },
    {
      "cell_type": "code",
      "metadata": {
        "id": "VBQxoq4YUjj-"
      },
      "source": [
        "class GrimTrigger(Player):\n",
        "  def __init__(self):\n",
        "    super().__init__()\n",
        "    self.action = 0\n",
        "\n",
        "  def get_action(self):\n",
        "    return self.action\n",
        "\n",
        "  def receive_reward(self, rewards, row, col, player):\n",
        "    super().receive_reward(rewards, row, col, player)\n",
        "    if self.action == 0:\n",
        "      if (player == 0 and col == 1) or (player == 1 and row == 1):\n",
        "        self.action = 1\n",
        "\n",
        "  def get_name(self):\n",
        "    return \"GrimTrigger\"\n",
        "\n",
        "  def reset_round(self):\n",
        "    super().reset_round()\n",
        "    self.action = 0"
      ],
      "execution_count": null,
      "outputs": []
    },
    {
      "cell_type": "markdown",
      "metadata": {
        "id": "M8sor3n3XvuD"
      },
      "source": [
        "### TitForTat with Forgiveness is like Tit for Tat but cooperates with the opponent with probability epsilon after the opponent defects"
      ]
    },
    {
      "cell_type": "code",
      "metadata": {
        "id": "qdfeZASJYBeY"
      },
      "source": [
        "class TitForTatForgiveness(Player):\n",
        "  def __init__(self, epsilon):\n",
        "    super().__init__()\n",
        "    self.opponent_last_move = 0\n",
        "    self.epsilon = epsilon\n",
        "\n",
        "  def get_action(self):\n",
        "    if self.opponent_last_move == 0:\n",
        "      return 0\n",
        "    elif random.uniform(0, 1) < self.epsilon:\n",
        "      return 0\n",
        "    else:\n",
        "      return 1\n",
        "\n",
        "  def receive_reward(self, rewards, row, col, player):\n",
        "    super().receive_reward(rewards, row, col, player)\n",
        "    if player == 0:\n",
        "      self.opponent_last_move = col\n",
        "    else:\n",
        "      self.opponent_last_move = row\n",
        "\n",
        "  def get_name(self):\n",
        "    return \"TitForTatForgiveness (\" + str(100*self.epsilon) + \"%)\"\n",
        "\n",
        "  def reset_round(self):\n",
        "    super().reset_round()\n",
        "    self.opponent_last_move = 0"
      ],
      "execution_count": null,
      "outputs": []
    },
    {
      "cell_type": "markdown",
      "metadata": {
        "id": "Bbim-uY2iqgi"
      },
      "source": [
        "### Win-Stay, Lose-Switch starts cooperating, and switches strategies every time the opponent defects"
      ]
    },
    {
      "cell_type": "code",
      "metadata": {
        "id": "rSrlAr9Bi3uo"
      },
      "source": [
        "class WinStayLoseSwitch(Player):\n",
        "  def __init__(self):\n",
        "    super().__init__()\n",
        "    self.action = 0\n",
        "\n",
        "  def get_action(self):\n",
        "    return self.action\n",
        "\n",
        "  def receive_reward(self, rewards, row, col, player):\n",
        "    super().receive_reward(rewards, row, col, player)\n",
        "    if (player == 0 and col == 1) or (player == 1 and row == 1):\n",
        "        self.action ^= 1\n",
        "\n",
        "  def get_name(self):\n",
        "    return \"WinStayLoseSwitch\"\n",
        "  \n",
        "  def reset_round(self):\n",
        "    super().reset_round()\n",
        "    self.action = 0"
      ],
      "execution_count": null,
      "outputs": []
    },
    {
      "cell_type": "markdown",
      "metadata": {
        "id": "2IbbHbVeSDad"
      },
      "source": [
        "# Simulate function that takes in the players and outputs a graph with the average rewards for each player"
      ]
    },
    {
      "cell_type": "code",
      "metadata": {
        "id": "6QzigIdPu_R5"
      },
      "source": [
        "def simulate_match(player0, player1, num_iters, rewards, discount):\n",
        "  iters = range(1, num_iters + 1)\n",
        "  for i in iters:\n",
        "    player0_action = player0.get_action()\n",
        "    player1_action = player1.get_action()\n",
        "    player0.receive_reward(rewards, player0_action, player1_action, 0)\n",
        "    player1.receive_reward(rewards, player0_action, player1_action, 1)\n",
        "    rewards *= discount\n",
        "  \n",
        "  name0 = player0.get_name()\n",
        "  name1 = player1.get_name()\n",
        "  name_num0 = name0\n",
        "  name_num1 = name1\n",
        "  if name0 == name1:\n",
        "    name_num0 += \"0\"\n",
        "    name_num1 += \"1\"\n",
        "\n",
        "  plt.plot(iters, player0.average_rewards_round, 'b-', label = name_num0)\n",
        "  plt.plot(iters, player1.average_rewards_round, 'r-', label = name_num1)\n",
        "  plt.title(\"Average Rewards for \" + name0 + \" vs \" + name1)\n",
        "  plt.xlabel(\"Number of Iterations\")\n",
        "  plt.ylabel(\"Average Reward\")\n",
        "  plt.xlim(left = 1, right = num_iters + 1)\n",
        "  plt.ylim(bottom = -0.1, top = (np.max(rewards) + 0.1))\n",
        "  plt.legend()\n",
        "  plt.show()"
      ],
      "execution_count": null,
      "outputs": []
    },
    {
      "cell_type": "markdown",
      "metadata": {
        "id": "bfTNOgSAvTGK"
      },
      "source": [
        "## Simulation Results"
      ]
    },
    {
      "cell_type": "code",
      "metadata": {
        "id": "qtbLU6BKvWTj"
      },
      "source": [
        "player0 = Nice()\n",
        "player1 = Nice()\n",
        "simulate_match(player0, player1, 100, rewards, 1)"
      ],
      "execution_count": null,
      "outputs": []
    },
    {
      "cell_type": "code",
      "metadata": {
        "id": "dagscNlgvZnD"
      },
      "source": [
        "player0 = Nasty()\n",
        "player1 = Nasty()\n",
        "simulate_match(player0, player1, 100, rewards, 1)"
      ],
      "execution_count": null,
      "outputs": []
    },
    {
      "cell_type": "code",
      "metadata": {
        "id": "VvcxAb82vdG-"
      },
      "source": [
        "player0 = Nice()\n",
        "player1 = Nasty()\n",
        "simulate_match(player0, player1, 100, rewards, 1)"
      ],
      "execution_count": null,
      "outputs": []
    },
    {
      "cell_type": "code",
      "metadata": {
        "id": "xHob1tPbvg7q"
      },
      "source": [
        "player0 = Nice()\n",
        "player1 = TitForTat()\n",
        "simulate_match(player0, player1, 100, rewards, 1)"
      ],
      "execution_count": null,
      "outputs": []
    },
    {
      "cell_type": "code",
      "metadata": {
        "id": "ULz5I_Jjvkzs"
      },
      "source": [
        "player0 = Nasty()\n",
        "player1 = TitForTat()\n",
        "simulate_match(player0, player1, 100, rewards, 1)"
      ],
      "execution_count": null,
      "outputs": []
    },
    {
      "cell_type": "code",
      "metadata": {
        "id": "f_5RJWXWvo0t"
      },
      "source": [
        "player0 = TitForTat()\n",
        "player1 = TitForTat()\n",
        "simulate_match(player0, player1, 100, rewards, 1)"
      ],
      "execution_count": null,
      "outputs": []
    },
    {
      "cell_type": "code",
      "metadata": {
        "id": "JqDdeyK-1kw4"
      },
      "source": [
        "player0 = EpsilonNasty(0.05)\n",
        "player1 = TitForTat()\n",
        "simulate_match(player0, player1, 100, rewards, 1)"
      ],
      "execution_count": null,
      "outputs": []
    },
    {
      "cell_type": "markdown",
      "metadata": {
        "id": "JJfVM_6w1_Q6"
      },
      "source": [
        "# Tournament function to simulate a randomly matched tournament and rank players by their average cumulative points per game"
      ]
    },
    {
      "cell_type": "code",
      "metadata": {
        "id": "Ub-ybjWM1-yM"
      },
      "source": [
        "def tournament(array0, array1, num_rounds, num_iters, rewards, discount):\n",
        "  for _ in range(num_rounds):\n",
        "    rewards_copy = np.copy(rewards).astype('float32')\n",
        "    np.random.shuffle(array0)\n",
        "    np.random.shuffle(array1)\n",
        "    array0[0].reset_round()\n",
        "    array1[0].reset_round()\n",
        "    for _ in range(num_iters):\n",
        "      player0_action = array0[0].get_action()\n",
        "      player1_action = array1[0].get_action()\n",
        "      array0[0].receive_reward(rewards_copy, player0_action, player1_action, 0)\n",
        "      array1[0].receive_reward(rewards_copy, player0_action, player1_action, 1)\n",
        "      rewards_copy *= discount\n",
        "    array0[0].reset_round()\n",
        "    array1[0].reset_round()\n",
        "\n",
        "  array_of_players = np.concatenate((array0, array1))\n",
        "  scores = []\n",
        "  for i in range(array_of_players.shape[0]):\n",
        "    scores.append(array_of_players[i].average_reward_total)\n",
        "  scores = np.array(scores)\n",
        "  places = np.argsort(scores)\n",
        "  results = np.take(array_of_players, np.flip(places), axis=0)\n",
        "  return results"
      ],
      "execution_count": null,
      "outputs": []
    },
    {
      "cell_type": "code",
      "metadata": {
        "id": "Z6JTAfoI6WTv"
      },
      "source": [
        "nice0 = Nice()\n",
        "nice1 = Nice()\n",
        "nasty0 = Nasty()\n",
        "nasty1 = Nasty()\n",
        "titfortat0 = TitForTat()\n",
        "titfortat1 = TitForTat()\n",
        "epsilonnasty0 = EpsilonNasty(0.05)\n",
        "epsilonnasty1 = EpsilonNasty(0.05)\n",
        "grimtrigger0 = GrimTrigger()\n",
        "grimtrigger1 = GrimTrigger()\n",
        "titfortatforgiveness0 = TitForTatForgiveness(0.05)\n",
        "titfortatforgiveness1 = TitForTatForgiveness(0.05)\n",
        "winstayloseswitch0 = WinStayLoseSwitch()\n",
        "winstayloseswitch1 = WinStayLoseSwitch()\n",
        "\n",
        "array0 = []\n",
        "array1 = []\n",
        "array0.append(nice0)\n",
        "array1.append(nice1)\n",
        "array0.append(nasty0)\n",
        "array1.append(nasty1)\n",
        "array0.append(titfortat0)\n",
        "array1.append(titfortat1)\n",
        "array0.append(epsilonnasty0)\n",
        "array1.append(epsilonnasty1)\n",
        "array0.append(grimtrigger0)\n",
        "array1.append(grimtrigger1)\n",
        "array0.append(titfortatforgiveness0)\n",
        "array1.append(titfortatforgiveness1)\n",
        "array0.append(winstayloseswitch0)\n",
        "array1.append(winstayloseswitch1)\n",
        "\n",
        "array0 = np.array(array0)\n",
        "array1 = np.array(array1)\n",
        "\n",
        "num_rounds = 10000\n",
        "num_iters = 1000\n",
        "discount = 1\n",
        "results = tournament(array0, array1, num_rounds, num_iters, rewards, discount)\n",
        "\n",
        "print(\"Tournament Results\")\n",
        "print(str(num_rounds) + \" rounds, \" + str(num_iters) + \" iterations, discount = \" + str(discount) + \"\\n\")\n",
        "for i in range(results.shape[0]):\n",
        "  print(results[i].get_name() + \" \" + str(results[i].average_reward_total))"
      ],
      "execution_count": null,
      "outputs": []
    },
    {
      "cell_type": "code",
      "metadata": {
        "id": "a_TxjjAoR0Xo"
      },
      "source": [
        "def plot_averages(player0, player1, min_y, max_y, num_rounds, num_iters, discount):\n",
        "  num_rounds0 = player0.num_rounds_total\n",
        "  num_rounds1 = player1.num_rounds_total\n",
        "  rounds0 = range(1, num_rounds0 + 1)\n",
        "  rounds1 = range(1, num_rounds1 + 1)\n",
        "\n",
        "  name0 = player0.get_name()\n",
        "  name1 = player1.get_name()\n",
        "  name_num0 = name0\n",
        "  name_num1 = name1\n",
        "  if name0 == name1:\n",
        "    name_num0 += \"0\"\n",
        "    name_num1 += \"1\"\n",
        "\n",
        "  plt.plot(rounds0, player0.average_rewards_total, 'b-', label = name_num0)\n",
        "  plt.plot(rounds1, player1.average_rewards_total, 'r-', label = name_num1)\n",
        "  plt.title(\"Average Rewards for \" + name0 + \" vs \" + name1 + \"\\n\" + str(num_rounds) + \" rounds, \" + str(num_iters) + \" iterations, discount = \" + str(discount))\n",
        "  plt.xlabel(\"Number of Iterations\")\n",
        "  plt.ylabel(\"Average Reward\")\n",
        "  plt.xlim(left = 1, right = (max(num_rounds0, num_rounds1) + 1))\n",
        "  plt.ylim(bottom = min_y, top = max_y)\n",
        "  plt.legend()\n",
        "  plt.show()"
      ],
      "execution_count": null,
      "outputs": []
    },
    {
      "cell_type": "markdown",
      "metadata": {
        "id": "zBbsYT5iwaKr"
      },
      "source": [
        "## Show convergence for each player in tournament"
      ]
    },
    {
      "cell_type": "code",
      "metadata": {
        "id": "QT-T-TGyHzOO"
      },
      "source": [
        "y_min = 1\n",
        "y_max = 2"
      ],
      "execution_count": null,
      "outputs": []
    },
    {
      "cell_type": "code",
      "metadata": {
        "id": "aUzl7aN2TjPl"
      },
      "source": [
        "plot_averages(nice0, nice1, y_min, y_max, num_rounds, num_iters, discount)"
      ],
      "execution_count": null,
      "outputs": []
    },
    {
      "cell_type": "code",
      "metadata": {
        "id": "cmTosrZ5Zr3j"
      },
      "source": [
        "plot_averages(nasty0, nasty1, y_min, y_max, num_rounds, num_iters, discount)"
      ],
      "execution_count": null,
      "outputs": []
    },
    {
      "cell_type": "code",
      "metadata": {
        "id": "4OUCZTUuZxg6"
      },
      "source": [
        "plot_averages(titfortat0, titfortat1, y_min, y_max, num_rounds, num_iters, discount)"
      ],
      "execution_count": null,
      "outputs": []
    },
    {
      "cell_type": "code",
      "metadata": {
        "id": "xi0tqjReZ_xb"
      },
      "source": [
        "plot_averages(epsilonnasty0, epsilonnasty1, y_min, y_max, num_rounds, num_iters, discount)"
      ],
      "execution_count": null,
      "outputs": []
    },
    {
      "cell_type": "code",
      "metadata": {
        "id": "hZRKX36r_5EP"
      },
      "source": [
        "plot_averages(grimtrigger0, grimtrigger1, y_min, y_max, num_rounds, num_iters, discount)"
      ],
      "execution_count": null,
      "outputs": []
    },
    {
      "cell_type": "code",
      "metadata": {
        "id": "49w7CVTKaHgT"
      },
      "source": [
        "plot_averages(titfortatforgiveness0, titfortatforgiveness1, y_min, y_max, num_rounds, num_iters, discount)"
      ],
      "execution_count": null,
      "outputs": []
    },
    {
      "cell_type": "code",
      "metadata": {
        "id": "HBTqt8Q0aSV7"
      },
      "source": [
        "plot_averages(winstayloseswitch0, winstayloseswitch1, y_min, y_max, num_rounds, num_iters, discount)"
      ],
      "execution_count": null,
      "outputs": []
    }
  ]
}